{
 "cells": [
  {
   "cell_type": "code",
   "execution_count": null,
   "id": "0e8813c7-2118-4ee2-9c6d-ccddc03bcad6",
   "metadata": {},
   "outputs": [],
   "source": [
    "import pandas as pd\n",
    "import mysql.connector\n",
    "import os\n",
    "\n",
    "# List of CSV files and their corresponding table names\n",
    "csv_files = [\n",
    "    ('customers.csv', 'customers'),\n",
    "    ('orders.csv', 'orders'),\n",
    "    ('sellers.csv', 'sellers'),\n",
    "    ('products.csv', 'products'),\n",
    "    ('geolocation.csv', 'geolocation'),\n",
    "    ('payments.csv', 'payments'),\n",
    "    ('order_items.csv','order_items') # Added payments.csv for specific handling\n",
    "]\n",
    "\n",
    "# Connect to the MySQL database\n",
    "conn = mysql.connector.connect(\n",
    "    host='localhost',\n",
    "    user='root',\n",
    "    password='vinayak@60',\n",
    "    database='ecommerce'\n",
    ")\n",
    "cursor = conn.cursor()\n",
    "\n",
    "# Folder containing the CSV files\n",
    "folder_path = 'D:/Data Analytics/Projects/Python and Sql Projects/Ecommerce Project/Ecommerce Datasets'\n",
    "\n",
    "def get_sql_type(dtype):\n",
    "    if pd.api.types.is_integer_dtype(dtype):\n",
    "        return 'INT'\n",
    "    elif pd.api.types.is_float_dtype(dtype):\n",
    "        return 'FLOAT'\n",
    "    elif pd.api.types.is_bool_dtype(dtype):\n",
    "        return 'BOOLEAN'\n",
    "    elif pd.api.types.is_datetime64_any_dtype(dtype):\n",
    "        return 'DATETIME'\n",
    "    else:\n",
    "        return 'TEXT'\n",
    "\n",
    "for csv_file, table_name in csv_files:\n",
    "    file_path = os.path.join(folder_path, csv_file)\n",
    "    \n",
    "    # Read the CSV file into a pandas DataFrame\n",
    "    df = pd.read_csv(file_path)\n",
    "    \n",
    "    # Replace NaN with None to handle SQL NULL\n",
    "    df = df.where(pd.notnull(df), None)\n",
    "    \n",
    "    # Debugging: Check for NaN values\n",
    "    print(f\"Processing {csv_file}\")\n",
    "    print(f\"NaN values before replacement:\\n{df.isnull().sum()}\\n\")\n",
    "\n",
    "    # Clean column names\n",
    "    df.columns = [col.replace(' ', '_').replace('-', '_').replace('.', '_') for col in df.columns]\n",
    "\n",
    "    # Generate the CREATE TABLE statement with appropriate data types\n",
    "    columns = ', '.join([f'`{col}` {get_sql_type(df[col].dtype)}' for col in df.columns])\n",
    "    create_table_query = f'CREATE TABLE IF NOT EXISTS `{table_name}` ({columns})'\n",
    "    cursor.execute(create_table_query)\n",
    "\n",
    "    # Insert DataFrame data into the MySQL table\n",
    "    for _, row in df.iterrows():\n",
    "        # Convert row to tuple and handle NaN/None explicitly\n",
    "        values = tuple(None if pd.isna(x) else x for x in row)\n",
    "        sql = f\"INSERT INTO `{table_name}` ({', '.join(['`' + col + '`' for col in df.columns])}) VALUES ({', '.join(['%s'] * len(row))})\"\n",
    "        cursor.execute(sql, values)\n",
    "\n",
    "    # Commit the transaction for the current CSV file\n",
    "    conn.commit()\n",
    "\n",
    "# Close the connection\n",
    "conn.close()"
   ]
  },
  {
   "cell_type": "code",
   "execution_count": 2,
   "id": "6dadff29-35f8-42ea-83f2-8c4c949330f8",
   "metadata": {},
   "outputs": [
    {
     "name": "stdout",
     "output_type": "stream",
     "text": [
      "Requirement already satisfied: mysql-connector-python in c:\\users\\asus\\appdata\\local\\programs\\python\\python313\\lib\\site-packages (9.3.0)\n",
      "Note: you may need to restart the kernel to use updated packages.\n"
     ]
    },
    {
     "name": "stderr",
     "output_type": "stream",
     "text": [
      "\n",
      "[notice] A new release of pip is available: 24.3.1 -> 25.1.1\n",
      "[notice] To update, run: python.exe -m pip install --upgrade pip\n"
     ]
    }
   ],
   "source": [
    "pip install mysql-connector-python"
   ]
  },
  {
   "cell_type": "code",
   "execution_count": 4,
   "id": "b8263481-9120-4dbc-a5f9-80f4e09cc6dc",
   "metadata": {},
   "outputs": [],
   "source": [
    "import pandas as pd\n",
    "import matplotlib.pyplot as plt\n",
    "import seaborn as sns\n",
    "import mysql.connector\n",
    "\n",
    "db = mysql.connector.connect(\n",
    "    host = \"localhost\",\n",
    "    username = \"root\",\n",
    "    password = \"vinayak@60\",\n",
    "    database = \"ecommerce\")\n",
    "\n",
    "cur = db.cursor()\n",
    "\n"
   ]
  },
  {
   "cell_type": "markdown",
   "id": "3e0a6856-0db8-4cb6-a07f-30e0ac83d85e",
   "metadata": {},
   "source": [
    "# List all unique cities where customers are located. "
   ]
  },
  {
   "cell_type": "code",
   "execution_count": 5,
   "id": "be15b85e-81d7-4fa8-8e19-b1bbea3b79b7",
   "metadata": {},
   "outputs": [
    {
     "data": {
      "text/html": [
       "<div>\n",
       "<style scoped>\n",
       "    .dataframe tbody tr th:only-of-type {\n",
       "        vertical-align: middle;\n",
       "    }\n",
       "\n",
       "    .dataframe tbody tr th {\n",
       "        vertical-align: top;\n",
       "    }\n",
       "\n",
       "    .dataframe thead th {\n",
       "        text-align: right;\n",
       "    }\n",
       "</style>\n",
       "<table border=\"1\" class=\"dataframe\">\n",
       "  <thead>\n",
       "    <tr style=\"text-align: right;\">\n",
       "      <th></th>\n",
       "      <th>City</th>\n",
       "    </tr>\n",
       "  </thead>\n",
       "  <tbody>\n",
       "    <tr>\n",
       "      <th>0</th>\n",
       "      <td>franca</td>\n",
       "    </tr>\n",
       "    <tr>\n",
       "      <th>1</th>\n",
       "      <td>sao bernardo do campo</td>\n",
       "    </tr>\n",
       "    <tr>\n",
       "      <th>2</th>\n",
       "      <td>sao paulo</td>\n",
       "    </tr>\n",
       "    <tr>\n",
       "      <th>3</th>\n",
       "      <td>mogi das cruzes</td>\n",
       "    </tr>\n",
       "    <tr>\n",
       "      <th>4</th>\n",
       "      <td>campinas</td>\n",
       "    </tr>\n",
       "  </tbody>\n",
       "</table>\n",
       "</div>"
      ],
      "text/plain": [
       "                    City\n",
       "0                 franca\n",
       "1  sao bernardo do campo\n",
       "2              sao paulo\n",
       "3        mogi das cruzes\n",
       "4               campinas"
      ]
     },
     "execution_count": 5,
     "metadata": {},
     "output_type": "execute_result"
    }
   ],
   "source": [
    "query = \"\"\"select distinct(customer_city) as city from customers \"\"\"\n",
    "\n",
    "cur.execute(query)\n",
    "\n",
    "data = cur.fetchall()\n",
    "\n",
    "data\n",
    "\n",
    "df = pd.DataFrame(data,columns = [\"City\"])\n",
    "df.head()"
   ]
  },
  {
   "cell_type": "markdown",
   "id": "16cf4455-19e7-4d3c-9d33-a4c03848b36e",
   "metadata": {},
   "source": [
    "# Count the number of orders placed in 2017."
   ]
  },
  {
   "cell_type": "code",
   "execution_count": 17,
   "id": "36712222-b7df-4692-a24c-49dd5fda97db",
   "metadata": {},
   "outputs": [
    {
     "data": {
      "text/plain": [
       "('total orders placed in 2017 are = ', 45101)"
      ]
     },
     "execution_count": 17,
     "metadata": {},
     "output_type": "execute_result"
    }
   ],
   "source": [
    "query = \"\"\"Select Count(*) from orders\n",
    "            where year(order_purchase_timestamp) = 2017\"\"\"\n",
    "\n",
    "cur.execute(query)\n",
    "\n",
    "data = cur.fetchall()\n",
    "\n",
    "\"total orders placed in 2017 are = \" , data[0][0]"
   ]
  },
  {
   "cell_type": "markdown",
   "id": "7b5a0fd1-58ed-4e84-b7f0-b95dd107289f",
   "metadata": {},
   "source": [
    "# Find the total sales per category."
   ]
  },
  {
   "cell_type": "code",
   "execution_count": 44,
   "id": "017732b2-2064-447e-b2e7-3f232bb6a03c",
   "metadata": {},
   "outputs": [
    {
     "data": {
      "text/html": [
       "<div>\n",
       "<style scoped>\n",
       "    .dataframe tbody tr th:only-of-type {\n",
       "        vertical-align: middle;\n",
       "    }\n",
       "\n",
       "    .dataframe tbody tr th {\n",
       "        vertical-align: top;\n",
       "    }\n",
       "\n",
       "    .dataframe thead th {\n",
       "        text-align: right;\n",
       "    }\n",
       "</style>\n",
       "<table border=\"1\" class=\"dataframe\">\n",
       "  <thead>\n",
       "    <tr style=\"text-align: right;\">\n",
       "      <th></th>\n",
       "      <th>Category</th>\n",
       "      <th>Total_Sales</th>\n",
       "    </tr>\n",
       "  </thead>\n",
       "  <tbody>\n",
       "    <tr>\n",
       "      <th>0</th>\n",
       "      <td>PERFUMERY</td>\n",
       "      <td>506738.66</td>\n",
       "    </tr>\n",
       "    <tr>\n",
       "      <th>1</th>\n",
       "      <td>FURNITURE DECORATION</td>\n",
       "      <td>1430176.39</td>\n",
       "    </tr>\n",
       "    <tr>\n",
       "      <th>2</th>\n",
       "      <td>TELEPHONY</td>\n",
       "      <td>486882.05</td>\n",
       "    </tr>\n",
       "    <tr>\n",
       "      <th>3</th>\n",
       "      <td>BED TABLE BATH</td>\n",
       "      <td>1712553.67</td>\n",
       "    </tr>\n",
       "    <tr>\n",
       "      <th>4</th>\n",
       "      <td>AUTOMOTIVE</td>\n",
       "      <td>852294.33</td>\n",
       "    </tr>\n",
       "    <tr>\n",
       "      <th>...</th>\n",
       "      <td>...</td>\n",
       "      <td>...</td>\n",
       "    </tr>\n",
       "    <tr>\n",
       "      <th>69</th>\n",
       "      <td>CDS MUSIC DVDS</td>\n",
       "      <td>1199.43</td>\n",
       "    </tr>\n",
       "    <tr>\n",
       "      <th>70</th>\n",
       "      <td>LA CUISINE</td>\n",
       "      <td>2913.53</td>\n",
       "    </tr>\n",
       "    <tr>\n",
       "      <th>71</th>\n",
       "      <td>FASHION CHILDREN'S CLOTHING</td>\n",
       "      <td>785.67</td>\n",
       "    </tr>\n",
       "    <tr>\n",
       "      <th>72</th>\n",
       "      <td>PC GAMER</td>\n",
       "      <td>2174.43</td>\n",
       "    </tr>\n",
       "    <tr>\n",
       "      <th>73</th>\n",
       "      <td>INSURANCE AND SERVICES</td>\n",
       "      <td>324.51</td>\n",
       "    </tr>\n",
       "  </tbody>\n",
       "</table>\n",
       "<p>74 rows × 2 columns</p>\n",
       "</div>"
      ],
      "text/plain": [
       "                       Category  Total_Sales\n",
       "0                     PERFUMERY    506738.66\n",
       "1          FURNITURE DECORATION   1430176.39\n",
       "2                     TELEPHONY    486882.05\n",
       "3                BED TABLE BATH   1712553.67\n",
       "4                    AUTOMOTIVE    852294.33\n",
       "..                          ...          ...\n",
       "69               CDS MUSIC DVDS      1199.43\n",
       "70                   LA CUISINE      2913.53\n",
       "71  FASHION CHILDREN'S CLOTHING       785.67\n",
       "72                     PC GAMER      2174.43\n",
       "73       INSURANCE AND SERVICES       324.51\n",
       "\n",
       "[74 rows x 2 columns]"
      ]
     },
     "execution_count": 44,
     "metadata": {},
     "output_type": "execute_result"
    }
   ],
   "source": [
    "import pandas as pd\n",
    "query = \"\"\"Select upper(t1.product_category) as 'Category',\n",
    "            round(sum(t3.payment_value),2) as 'Total_Sales'\n",
    "            from products t1\n",
    "            join order_items t2\n",
    "            on t1.product_id = t2.product_id\n",
    "            join payments t3\n",
    "            on t2.order_id = t3.order_id\n",
    "            group by product_category\"\"\"\n",
    "            \n",
    "\n",
    "cur.execute(query)\n",
    "\n",
    "data = cur.fetchall()\n",
    "\n",
    "df = pd.DataFrame(data,columns=[\"Category\", \"Total_Sales\"])\n",
    "df"
   ]
  },
  {
   "cell_type": "markdown",
   "id": "e2b3afe1-dbc2-460e-8c85-00a8820e3702",
   "metadata": {},
   "source": [
    "# Calculate the percentage of orders that were paid in installments."
   ]
  },
  {
   "cell_type": "code",
   "execution_count": 49,
   "id": "2c65ae90-bb98-4a82-baeb-d55eeca3c63d",
   "metadata": {},
   "outputs": [
    {
     "data": {
      "text/plain": [
       "('the percentage of orders that were paid in installments is ',\n",
       " Decimal('99.9981'))"
      ]
     },
     "execution_count": 49,
     "metadata": {},
     "output_type": "execute_result"
    }
   ],
   "source": [
    "query = \"\"\" select \n",
    "            sum(case when payment_installments>=1 then 1 else 0 end)/count(*)*100\n",
    "            from payments\"\"\"\n",
    "\n",
    "cur.execute(query)\n",
    "\n",
    "data = cur.fetchall()\n",
    "\n",
    "\"the percentage of orders that were paid in installments is \", data[0][0]"
   ]
  },
  {
   "cell_type": "markdown",
   "id": "44f24dbf-58cb-4912-8f7f-606a3c7023fa",
   "metadata": {},
   "source": [
    "# Count the number of customers from each state."
   ]
  },
  {
   "cell_type": "code",
   "execution_count": 102,
   "id": "927b62ff-f3e0-4010-975a-68db292fddee",
   "metadata": {},
   "outputs": [
    {
     "data": {
      "image/png": "[encoded data removed]",
      "text/plain": [
       "<Figure size 800x400 with 1 Axes>"
      ]
     },
     "metadata": {},
     "output_type": "display_data"
    }
   ],
   "source": [
    "import pandas as pd\n",
    "query = \"\"\" Select customer_state as States, Count(*) as \"Number_of_Customer\" from customers\n",
    "            group by customer_state\n",
    "            order by Number_of_Customer desc\"\"\"\n",
    "\n",
    "cur.execute(query)\n",
    "\n",
    "data = cur.fetchall()\n",
    "\n",
    "df = pd.DataFrame(data,columns = [\"States\",\"Number_of_Customer\"])\n",
    "df\n",
    "#df = df.sort_values(by = \"Number_of_Customer\", ascending = False)\n",
    "plt.figure(figsize = (8,4))\n",
    "plt.bar(df[\"States\"],df[\"Number_of_Customer\"])\n",
    "plt.xticks(rotation = 90)\n",
    "plt.xlabel(\"States\")\n",
    "plt.ylabel(\"Number_of_Customer\")\n",
    "plt.title(\"Count of Customer by States\")\n",
    "plt.show()"
   ]
  },
  {
   "cell_type": "markdown",
   "id": "a8418d30-c18d-4fd4-9a6c-b1386da1c52d",
   "metadata": {},
   "source": [
    "# Calculate the number of orders per month in 2018"
   ]
  },
  {
   "cell_type": "code",
   "execution_count": 39,
   "id": "43d4ec7c-2cbf-42d0-846c-114ab179780e",
   "metadata": {},
   "outputs": [
    {
     "data": {
      "image/png": "[encoded data removed]",
      "text/plain": [
       "<Figure size 640x480 with 1 Axes>"
      ]
     },
     "metadata": {},
     "output_type": "display_data"
    }
   ],
   "source": [
    "query = \"\"\" Select monthname(order_purchase_timestamp) as Months,\n",
    "            Count(*) as \"Order_Count\"\n",
    "            from orders\n",
    "            where year(order_purchase_timestamp) = 2018\n",
    "            group by Months\"\"\"\n",
    "\n",
    "cur.execute(query)\n",
    "\n",
    "data = cur.fetchall()\n",
    "\n",
    "df = pd.DataFrame(data,columns = [\"Months\",\"Order_Count\"])\n",
    "df\n",
    "o = [\"January\",\"February\",\"March\",\"April\",\"May\",\"June\",\"July\",\"August\",\"September\",\"October\"]\n",
    "ax = sns.barplot(x = df[\"Months\"], y= df[\"Order_Count\"],data= df,order = o,color = \"red\")\n",
    "plt.xticks(rotation = 45)\n",
    "plt.title(\"Count of Orders by Months is 2018\")\n",
    "ax.bar_label(ax.containers[0])\n",
    "plt.show()"
   ]
  },
  {
   "cell_type": "markdown",
   "id": "5ffbc1e4-a436-4a26-8e72-3c80a20729a6",
   "metadata": {},
   "source": [
    "# Find the average number of products per order, grouped by customer city"
   ]
  },
  {
   "cell_type": "code",
   "execution_count": 16,
   "id": "df8306d5-4780-4f42-bf31-8e44f467e0a7",
   "metadata": {},
   "outputs": [
    {
     "data": {
      "text/html": [
       "<div>\n",
       "<style scoped>\n",
       "    .dataframe tbody tr th:only-of-type {\n",
       "        vertical-align: middle;\n",
       "    }\n",
       "\n",
       "    .dataframe tbody tr th {\n",
       "        vertical-align: top;\n",
       "    }\n",
       "\n",
       "    .dataframe thead th {\n",
       "        text-align: right;\n",
       "    }\n",
       "</style>\n",
       "<table border=\"1\" class=\"dataframe\">\n",
       "  <thead>\n",
       "    <tr style=\"text-align: right;\">\n",
       "      <th></th>\n",
       "      <th>Customer_City</th>\n",
       "      <th>Average_Order</th>\n",
       "    </tr>\n",
       "  </thead>\n",
       "  <tbody>\n",
       "    <tr>\n",
       "      <th>0</th>\n",
       "      <td>padre carvalho</td>\n",
       "      <td>7.00</td>\n",
       "    </tr>\n",
       "    <tr>\n",
       "      <th>1</th>\n",
       "      <td>celso ramos</td>\n",
       "      <td>6.50</td>\n",
       "    </tr>\n",
       "    <tr>\n",
       "      <th>2</th>\n",
       "      <td>datas</td>\n",
       "      <td>6.00</td>\n",
       "    </tr>\n",
       "    <tr>\n",
       "      <th>3</th>\n",
       "      <td>candido godoi</td>\n",
       "      <td>6.00</td>\n",
       "    </tr>\n",
       "    <tr>\n",
       "      <th>4</th>\n",
       "      <td>matias olimpio</td>\n",
       "      <td>5.00</td>\n",
       "    </tr>\n",
       "  </tbody>\n",
       "</table>\n",
       "</div>"
      ],
      "text/plain": [
       "    Customer_City Average_Order\n",
       "0  padre carvalho          7.00\n",
       "1     celso ramos          6.50\n",
       "2           datas          6.00\n",
       "3   candido godoi          6.00\n",
       "4  matias olimpio          5.00"
      ]
     },
     "execution_count": 16,
     "metadata": {},
     "output_type": "execute_result"
    }
   ],
   "source": [
    "query  = \"\"\"with count_per_order as\n",
    "            (Select t1.customer_id,t1.order_id, \n",
    "            count(*) as order_count from orders t1\n",
    "            join order_items t2\n",
    "            on t1.order_id = t2.order_id\n",
    "            group by t1.customer_id,t1.order_id)\n",
    "\n",
    "            select t3.customer_city, \n",
    "            round(avg(t4.order_count),2) as Average_Order \n",
    "            from customers t3 join count_per_order t4\n",
    "            on t3.customer_id = t4.customer_id\n",
    "            group by customer_city\n",
    "            order by Average_Order desc\"\"\"\n",
    "cur.execute(query)\n",
    "\n",
    "data = cur.fetchall()\n",
    "\n",
    "df = pd.DataFrame(data,columns = [\"Customer_City\",\"Average_Order\"])\n",
    "df.head()"
   ]
  },
  {
   "cell_type": "markdown",
   "id": "f2173660-01e9-4c7a-ace0-ab7028dd29e3",
   "metadata": {},
   "source": [
    "# Calculate the percentage of total revenue contributed by each product category"
   ]
  },
  {
   "cell_type": "code",
   "execution_count": 27,
   "id": "80a3185b-9b48-4093-a6e2-2f06389375b7",
   "metadata": {},
   "outputs": [
    {
     "data": {
      "text/html": [
       "<div>\n",
       "<style scoped>\n",
       "    .dataframe tbody tr th:only-of-type {\n",
       "        vertical-align: middle;\n",
       "    }\n",
       "\n",
       "    .dataframe tbody tr th {\n",
       "        vertical-align: top;\n",
       "    }\n",
       "\n",
       "    .dataframe thead th {\n",
       "        text-align: right;\n",
       "    }\n",
       "</style>\n",
       "<table border=\"1\" class=\"dataframe\">\n",
       "  <thead>\n",
       "    <tr style=\"text-align: right;\">\n",
       "      <th></th>\n",
       "      <th>Product Category</th>\n",
       "      <th>Total_Percentage_payment</th>\n",
       "    </tr>\n",
       "  </thead>\n",
       "  <tbody>\n",
       "    <tr>\n",
       "      <th>0</th>\n",
       "      <td>padre carvalho</td>\n",
       "      <td>7.00</td>\n",
       "    </tr>\n",
       "    <tr>\n",
       "      <th>1</th>\n",
       "      <td>celso ramos</td>\n",
       "      <td>6.50</td>\n",
       "    </tr>\n",
       "    <tr>\n",
       "      <th>2</th>\n",
       "      <td>datas</td>\n",
       "      <td>6.00</td>\n",
       "    </tr>\n",
       "    <tr>\n",
       "      <th>3</th>\n",
       "      <td>candido godoi</td>\n",
       "      <td>6.00</td>\n",
       "    </tr>\n",
       "    <tr>\n",
       "      <th>4</th>\n",
       "      <td>matias olimpio</td>\n",
       "      <td>5.00</td>\n",
       "    </tr>\n",
       "  </tbody>\n",
       "</table>\n",
       "</div>"
      ],
      "text/plain": [
       "  Product Category Total_Percentage_payment\n",
       "0   padre carvalho                     7.00\n",
       "1      celso ramos                     6.50\n",
       "2            datas                     6.00\n",
       "3    candido godoi                     6.00\n",
       "4   matias olimpio                     5.00"
      ]
     },
     "execution_count": 27,
     "metadata": {},
     "output_type": "execute_result"
    }
   ],
   "source": [
    "query = \"\"\" Select t1.product_category,\n",
    "            round((Sum(t3.payment_value)/\n",
    "            (Select Sum(payment_value) from payments))*100,2) \n",
    "            as Total_Percentage_payment \n",
    "            from products t1 \n",
    "            join order_items t2\n",
    "            on t1.product_id = t2.product_id\n",
    "            join payments t3\n",
    "            on t2.order_id = t3.order_id\n",
    "            group by product_category\n",
    "            order by Total_Percentage_payment desc\"\"\"\n",
    "\n",
    "cur.execute(query)\n",
    "\n",
    "cur.fetchall()\n",
    "\n",
    "data \n",
    "\n",
    "df = pd.DataFrame(data,columns= [\"Product Category\",\"Total_Percentage_payment\"])\n",
    "df.head()\n",
    "\n",
    " "
   ]
  },
  {
   "cell_type": "markdown",
   "id": "954006c0-4f4d-4908-aa16-8006934adc38",
   "metadata": {},
   "source": [
    "# Identify the correlation between product price and the number of times a product has been purchased\n"
   ]
  },
  {
   "cell_type": "code",
   "execution_count": 40,
   "id": "5b005d7f-ecf4-434c-9232-3971a7655d17",
   "metadata": {},
   "outputs": [
    {
     "name": "stdout",
     "output_type": "stream",
     "text": [
      "the correlation between product price and the number of times a product has been purchased is -0.10631514167157557\n"
     ]
    }
   ],
   "source": [
    "import numpy as np\n",
    "query =  \"\"\"select t1.product_category,\n",
    "            count(*),\n",
    "            round(avg(t2.price),2) as Average_Value \n",
    "            from products t1\n",
    "            join order_items t2\n",
    "            on t1.product_id = t2.product_id\n",
    "            group by product_category\n",
    "            order by Average_Value desc\"\"\"\n",
    "\n",
    "\n",
    "cur.execute(query)\n",
    "\n",
    "data = cur.fetchall()\n",
    "\n",
    "df = pd.DataFrame(data,columns = [\"Product Category\", \"Order_Count\",\"Average_Value\"])\n",
    "df.head()\n",
    "arr1 = df[\"Order_Count\"]\n",
    "arr2 = df[\"Average_Value\"]\n",
    "a = np.corrcoef([arr1,arr2])\n",
    "print(\"the correlation between product price and the number of times a product has been purchased is\",a[0][1])\n"
   ]
  },
  {
   "cell_type": "markdown",
   "id": "3022ac4c-436b-4031-810f-b452c03aeedd",
   "metadata": {},
   "source": [
    "# Calculate the total revenue generated by each seller, and rank them by revenue."
   ]
  },
  {
   "cell_type": "code",
   "execution_count": 21,
   "id": "70552e71-9c27-4120-ab87-8993e7d15f28",
   "metadata": {},
   "outputs": [
    {
     "data": {
      "image/png": "[encoded data removed]",
      "text/plain": [
       "<Figure size 640x480 with 1 Axes>"
      ]
     },
     "metadata": {},
     "output_type": "display_data"
    }
   ],
   "source": [
    "query =  \"\"\"Select *, dense_rank() \n",
    "            over(order by Total_Revenue desc) as Seller_Rank\n",
    "            from \n",
    "            (select t1.seller_id, \n",
    "            sum(t2.payment_value) as Total_Revenue\n",
    "            from order_items t1\n",
    "            join payments t2\n",
    "            on t1.order_id = t2.order_id \n",
    "            group by t1.seller_id) as t\"\"\"\n",
    "\n",
    "cur.execute(query)\n",
    "data = cur.fetchall()\n",
    "df = pd.DataFrame(data,columns=[\"Seller Id\",\"Total Revenue\",\"Seller Rank\"])\n",
    "df1 = df.head()\n",
    "sns.barplot(data = df1, x=\"Seller Id\", y= \"Total Revenue\")\n",
    "plt.xticks(rotation = 90)\n",
    "plt.show()"
   ]
  },
  {
   "cell_type": "markdown",
   "id": "db5892fa-32ef-4f74-b34e-a9a7b6f08eb8",
   "metadata": {},
   "source": [
    "# Calculate the moving average of order values for each customer over their order history.\n"
   ]
  },
  {
   "cell_type": "code",
   "execution_count": 41,
   "id": "1f71cd9f-e9a0-42e6-938d-8a90eb450efc",
   "metadata": {},
   "outputs": [
    {
     "data": {
      "text/html": [
       "<div>\n",
       "<style scoped>\n",
       "    .dataframe tbody tr th:only-of-type {\n",
       "        vertical-align: middle;\n",
       "    }\n",
       "\n",
       "    .dataframe tbody tr th {\n",
       "        vertical-align: top;\n",
       "    }\n",
       "\n",
       "    .dataframe thead th {\n",
       "        text-align: right;\n",
       "    }\n",
       "</style>\n",
       "<table border=\"1\" class=\"dataframe\">\n",
       "  <thead>\n",
       "    <tr style=\"text-align: right;\">\n",
       "      <th></th>\n",
       "      <th>Customer Id</th>\n",
       "      <th>TimeStamp</th>\n",
       "      <th>Moving Average</th>\n",
       "    </tr>\n",
       "  </thead>\n",
       "  <tbody>\n",
       "    <tr>\n",
       "      <th>0</th>\n",
       "      <td>00012a2ce6f8dcda20d059ce98491703</td>\n",
       "      <td>2017-11-14 16:08:26</td>\n",
       "      <td>114.739998</td>\n",
       "    </tr>\n",
       "    <tr>\n",
       "      <th>1</th>\n",
       "      <td>000161a058600d5901f007fab4c27140</td>\n",
       "      <td>2017-07-16 09:40:32</td>\n",
       "      <td>67.410004</td>\n",
       "    </tr>\n",
       "    <tr>\n",
       "      <th>2</th>\n",
       "      <td>0001fd6190edaaf884bcaf3d49edf079</td>\n",
       "      <td>2017-02-28 11:06:43</td>\n",
       "      <td>195.419998</td>\n",
       "    </tr>\n",
       "    <tr>\n",
       "      <th>3</th>\n",
       "      <td>0002414f95344307404f0ace7a26f1d5</td>\n",
       "      <td>2017-08-16 13:09:20</td>\n",
       "      <td>179.350006</td>\n",
       "    </tr>\n",
       "    <tr>\n",
       "      <th>4</th>\n",
       "      <td>000379cdec625522490c315e70c7a9fb</td>\n",
       "      <td>2018-04-02 13:42:17</td>\n",
       "      <td>107.010002</td>\n",
       "    </tr>\n",
       "  </tbody>\n",
       "</table>\n",
       "</div>"
      ],
      "text/plain": [
       "                        Customer Id            TimeStamp  Moving Average\n",
       "0  00012a2ce6f8dcda20d059ce98491703  2017-11-14 16:08:26      114.739998\n",
       "1  000161a058600d5901f007fab4c27140  2017-07-16 09:40:32       67.410004\n",
       "2  0001fd6190edaaf884bcaf3d49edf079  2017-02-28 11:06:43      195.419998\n",
       "3  0002414f95344307404f0ace7a26f1d5  2017-08-16 13:09:20      179.350006\n",
       "4  000379cdec625522490c315e70c7a9fb  2018-04-02 13:42:17      107.010002"
      ]
     },
     "execution_count": 41,
     "metadata": {},
     "output_type": "execute_result"
    }
   ],
   "source": [
    "query = \"\"\" select customer_id, order_purchase_timestamp,\n",
    "            avg(payment) over(partition by customer_id \n",
    "            order by order_purchase_timestamp\n",
    "            rows between 2 preceding and current row) as mov_avg\n",
    "            from\n",
    "            (select t1.customer_id,\n",
    "            t1.order_purchase_timestamp,\n",
    "            t2.payment_value as payment from orders t1 \n",
    "            join payments t2\n",
    "            on t1.order_id = t2.order_id) as t\"\"\"\n",
    "\n",
    "cur.execute(query)\n",
    "data = cur.fetchall()\n",
    "df = pd.DataFrame(data,columns = [\"Customer Id\",\"TimeStamp\",\"Moving Average\"])\n",
    "df.head()"
   ]
  },
  {
   "cell_type": "markdown",
   "id": "6e5e084b-b2ef-4b6b-946b-d8a158a49537",
   "metadata": {},
   "source": [
    "# Calculate the cumulative sales per month for each year.\n"
   ]
  },
  {
   "cell_type": "code",
   "execution_count": 26,
   "id": "5333b6de-2d0e-4d03-a7c4-9661885cc456",
   "metadata": {},
   "outputs": [
    {
     "data": {
      "text/html": [
       "<div>\n",
       "<style scoped>\n",
       "    .dataframe tbody tr th:only-of-type {\n",
       "        vertical-align: middle;\n",
       "    }\n",
       "\n",
       "    .dataframe tbody tr th {\n",
       "        vertical-align: top;\n",
       "    }\n",
       "\n",
       "    .dataframe thead th {\n",
       "        text-align: right;\n",
       "    }\n",
       "</style>\n",
       "<table border=\"1\" class=\"dataframe\">\n",
       "  <thead>\n",
       "    <tr style=\"text-align: right;\">\n",
       "      <th></th>\n",
       "      <th>Years</th>\n",
       "      <th>Months</th>\n",
       "      <th>Payments</th>\n",
       "      <th>Cumulative Sales</th>\n",
       "    </tr>\n",
       "  </thead>\n",
       "  <tbody>\n",
       "    <tr>\n",
       "      <th>0</th>\n",
       "      <td>2016</td>\n",
       "      <td>9</td>\n",
       "      <td>252.24</td>\n",
       "      <td>252.24</td>\n",
       "    </tr>\n",
       "    <tr>\n",
       "      <th>1</th>\n",
       "      <td>2016</td>\n",
       "      <td>10</td>\n",
       "      <td>59090.48</td>\n",
       "      <td>59342.72</td>\n",
       "    </tr>\n",
       "    <tr>\n",
       "      <th>2</th>\n",
       "      <td>2016</td>\n",
       "      <td>12</td>\n",
       "      <td>19.62</td>\n",
       "      <td>59362.34</td>\n",
       "    </tr>\n",
       "    <tr>\n",
       "      <th>3</th>\n",
       "      <td>2017</td>\n",
       "      <td>1</td>\n",
       "      <td>138488.04</td>\n",
       "      <td>197850.38</td>\n",
       "    </tr>\n",
       "    <tr>\n",
       "      <th>4</th>\n",
       "      <td>2017</td>\n",
       "      <td>2</td>\n",
       "      <td>291908.01</td>\n",
       "      <td>489758.39</td>\n",
       "    </tr>\n",
       "    <tr>\n",
       "      <th>5</th>\n",
       "      <td>2017</td>\n",
       "      <td>3</td>\n",
       "      <td>449863.60</td>\n",
       "      <td>939621.99</td>\n",
       "    </tr>\n",
       "    <tr>\n",
       "      <th>6</th>\n",
       "      <td>2017</td>\n",
       "      <td>4</td>\n",
       "      <td>417788.03</td>\n",
       "      <td>1357410.02</td>\n",
       "    </tr>\n",
       "    <tr>\n",
       "      <th>7</th>\n",
       "      <td>2017</td>\n",
       "      <td>5</td>\n",
       "      <td>592918.82</td>\n",
       "      <td>1950328.84</td>\n",
       "    </tr>\n",
       "    <tr>\n",
       "      <th>8</th>\n",
       "      <td>2017</td>\n",
       "      <td>6</td>\n",
       "      <td>511276.38</td>\n",
       "      <td>2461605.22</td>\n",
       "    </tr>\n",
       "    <tr>\n",
       "      <th>9</th>\n",
       "      <td>2017</td>\n",
       "      <td>7</td>\n",
       "      <td>592382.92</td>\n",
       "      <td>3053988.14</td>\n",
       "    </tr>\n",
       "    <tr>\n",
       "      <th>10</th>\n",
       "      <td>2017</td>\n",
       "      <td>8</td>\n",
       "      <td>674396.32</td>\n",
       "      <td>3728384.46</td>\n",
       "    </tr>\n",
       "    <tr>\n",
       "      <th>11</th>\n",
       "      <td>2017</td>\n",
       "      <td>9</td>\n",
       "      <td>727762.45</td>\n",
       "      <td>4456146.91</td>\n",
       "    </tr>\n",
       "    <tr>\n",
       "      <th>12</th>\n",
       "      <td>2017</td>\n",
       "      <td>10</td>\n",
       "      <td>779677.88</td>\n",
       "      <td>5235824.79</td>\n",
       "    </tr>\n",
       "    <tr>\n",
       "      <th>13</th>\n",
       "      <td>2017</td>\n",
       "      <td>11</td>\n",
       "      <td>1194882.80</td>\n",
       "      <td>6430707.59</td>\n",
       "    </tr>\n",
       "    <tr>\n",
       "      <th>14</th>\n",
       "      <td>2017</td>\n",
       "      <td>12</td>\n",
       "      <td>878401.48</td>\n",
       "      <td>7309109.07</td>\n",
       "    </tr>\n",
       "    <tr>\n",
       "      <th>15</th>\n",
       "      <td>2018</td>\n",
       "      <td>1</td>\n",
       "      <td>1115004.18</td>\n",
       "      <td>8424113.25</td>\n",
       "    </tr>\n",
       "    <tr>\n",
       "      <th>16</th>\n",
       "      <td>2018</td>\n",
       "      <td>2</td>\n",
       "      <td>992463.34</td>\n",
       "      <td>9416576.59</td>\n",
       "    </tr>\n",
       "    <tr>\n",
       "      <th>17</th>\n",
       "      <td>2018</td>\n",
       "      <td>3</td>\n",
       "      <td>1159652.12</td>\n",
       "      <td>10576228.71</td>\n",
       "    </tr>\n",
       "    <tr>\n",
       "      <th>18</th>\n",
       "      <td>2018</td>\n",
       "      <td>4</td>\n",
       "      <td>1160785.48</td>\n",
       "      <td>11737014.19</td>\n",
       "    </tr>\n",
       "    <tr>\n",
       "      <th>19</th>\n",
       "      <td>2018</td>\n",
       "      <td>5</td>\n",
       "      <td>1153982.15</td>\n",
       "      <td>12890996.34</td>\n",
       "    </tr>\n",
       "    <tr>\n",
       "      <th>20</th>\n",
       "      <td>2018</td>\n",
       "      <td>6</td>\n",
       "      <td>1023880.50</td>\n",
       "      <td>13914876.84</td>\n",
       "    </tr>\n",
       "    <tr>\n",
       "      <th>21</th>\n",
       "      <td>2018</td>\n",
       "      <td>7</td>\n",
       "      <td>1066540.75</td>\n",
       "      <td>14981417.59</td>\n",
       "    </tr>\n",
       "    <tr>\n",
       "      <th>22</th>\n",
       "      <td>2018</td>\n",
       "      <td>8</td>\n",
       "      <td>1022425.32</td>\n",
       "      <td>16003842.91</td>\n",
       "    </tr>\n",
       "    <tr>\n",
       "      <th>23</th>\n",
       "      <td>2018</td>\n",
       "      <td>9</td>\n",
       "      <td>4439.54</td>\n",
       "      <td>16008282.45</td>\n",
       "    </tr>\n",
       "    <tr>\n",
       "      <th>24</th>\n",
       "      <td>2018</td>\n",
       "      <td>10</td>\n",
       "      <td>589.67</td>\n",
       "      <td>16008872.12</td>\n",
       "    </tr>\n",
       "  </tbody>\n",
       "</table>\n",
       "</div>"
      ],
      "text/plain": [
       "    Years  Months    Payments  Cumulative Sales\n",
       "0    2016       9      252.24            252.24\n",
       "1    2016      10    59090.48          59342.72\n",
       "2    2016      12       19.62          59362.34\n",
       "3    2017       1   138488.04         197850.38\n",
       "4    2017       2   291908.01         489758.39\n",
       "5    2017       3   449863.60         939621.99\n",
       "6    2017       4   417788.03        1357410.02\n",
       "7    2017       5   592918.82        1950328.84\n",
       "8    2017       6   511276.38        2461605.22\n",
       "9    2017       7   592382.92        3053988.14\n",
       "10   2017       8   674396.32        3728384.46\n",
       "11   2017       9   727762.45        4456146.91\n",
       "12   2017      10   779677.88        5235824.79\n",
       "13   2017      11  1194882.80        6430707.59\n",
       "14   2017      12   878401.48        7309109.07\n",
       "15   2018       1  1115004.18        8424113.25\n",
       "16   2018       2   992463.34        9416576.59\n",
       "17   2018       3  1159652.12       10576228.71\n",
       "18   2018       4  1160785.48       11737014.19\n",
       "19   2018       5  1153982.15       12890996.34\n",
       "20   2018       6  1023880.50       13914876.84\n",
       "21   2018       7  1066540.75       14981417.59\n",
       "22   2018       8  1022425.32       16003842.91\n",
       "23   2018       9     4439.54       16008282.45\n",
       "24   2018      10      589.67       16008872.12"
      ]
     },
     "execution_count": 26,
     "metadata": {},
     "output_type": "execute_result"
    }
   ],
   "source": [
    "query = \"\"\" select years,months,payments,round(sum(payments)\n",
    "            over(order by years,months),2) as cumulative_sales from\n",
    "            (select year(order_purchase_timestamp) as years,\n",
    "            month(order_purchase_timestamp) as months ,\n",
    "            round(sum(t2.payment_value),2) as payments\n",
    "            from orders t1\n",
    "            join payments t2\n",
    "            on t1.order_id = t2.order_id\n",
    "            group by years,months order by years,months) t\"\"\"\n",
    "\n",
    "cur.execute(query)\n",
    "\n",
    "data = cur.fetchall()\n",
    "\n",
    "df = pd.DataFrame(data,columns=[\"Years\",\"Months\",\"Payments\",\"Cumulative Sales\"])\n",
    "df"
   ]
  },
  {
   "cell_type": "markdown",
   "id": "dcfb7ff2-c1e9-43ee-843d-05c5ccbe4991",
   "metadata": {},
   "source": [
    "# Calculate the year-over-year growth rate of total sales."
   ]
  },
  {
   "cell_type": "code",
   "execution_count": 27,
   "id": "611b70a9-e7b4-422b-9878-c0b532810a26",
   "metadata": {},
   "outputs": [
    {
     "data": {
      "text/html": [
       "<div>\n",
       "<style scoped>\n",
       "    .dataframe tbody tr th:only-of-type {\n",
       "        vertical-align: middle;\n",
       "    }\n",
       "\n",
       "    .dataframe tbody tr th {\n",
       "        vertical-align: top;\n",
       "    }\n",
       "\n",
       "    .dataframe thead th {\n",
       "        text-align: right;\n",
       "    }\n",
       "</style>\n",
       "<table border=\"1\" class=\"dataframe\">\n",
       "  <thead>\n",
       "    <tr style=\"text-align: right;\">\n",
       "      <th></th>\n",
       "      <th>Year</th>\n",
       "      <th>YOY Growth</th>\n",
       "    </tr>\n",
       "  </thead>\n",
       "  <tbody>\n",
       "    <tr>\n",
       "      <th>0</th>\n",
       "      <td>2016</td>\n",
       "      <td>NaN</td>\n",
       "    </tr>\n",
       "    <tr>\n",
       "      <th>1</th>\n",
       "      <td>2017</td>\n",
       "      <td>12112.703761</td>\n",
       "    </tr>\n",
       "    <tr>\n",
       "      <th>2</th>\n",
       "      <td>2018</td>\n",
       "      <td>20.000924</td>\n",
       "    </tr>\n",
       "  </tbody>\n",
       "</table>\n",
       "</div>"
      ],
      "text/plain": [
       "   Year    YOY Growth\n",
       "0  2016           NaN\n",
       "1  2017  12112.703761\n",
       "2  2018     20.000924"
      ]
     },
     "execution_count": 27,
     "metadata": {},
     "output_type": "execute_result"
    }
   ],
   "source": [
    "query = \"\"\" with t as \n",
    "            (select year(order_purchase_timestamp) as years,\n",
    "            round(sum(t2.payment_value),2) as payments \n",
    "            from orders t1\n",
    "            join payments t2\n",
    "            on t1.order_id = t2.order_id\n",
    "            group by years\n",
    "            order by years) \n",
    "\n",
    "            select years,((payments - lag(payments,1) \n",
    "            over(order by years))/lag(payments,1) \n",
    "            over(order by years))*100 as previous_year\n",
    "            from t\"\"\"\n",
    "\n",
    "cur.execute(query)\n",
    "\n",
    "data = cur.fetchall()\n",
    "\n",
    "df = pd.DataFrame(data,columns=[\"Year\",\"YOY Growth\"])\n",
    "df"
   ]
  },
  {
   "cell_type": "markdown",
   "id": "90c99cd4-ca23-41a1-84c5-d533cb4a58d5",
   "metadata": {},
   "source": [
    "# Calculate the retention rate of customers, defined as the percentage of customers who make another purchase within 6 months of their first purchase.\n"
   ]
  },
  {
   "cell_type": "code",
   "execution_count": 28,
   "id": "e19fa11b-db3a-43eb-9dcc-f1ad2c04405c",
   "metadata": {},
   "outputs": [
    {
     "data": {
      "text/plain": [
       "[(None,)]"
      ]
     },
     "execution_count": 28,
     "metadata": {},
     "output_type": "execute_result"
    }
   ],
   "source": [
    "query = \"\"\" With a as (select t1.customer_id,\n",
    "            min(order_purchase_timestamp) as first_order\n",
    "            from customers t1\n",
    "            join orders t2\n",
    "            on t1.customer_id = t2.customer_id\n",
    "            group by t1.customer_id),\n",
    "\n",
    "            b as (select a.customer_id,\n",
    "            count(distinct t3.order_purchase_timestamp) as next_order\n",
    "            from a join orders t3\n",
    "            on a.customer_id = t3.customer_id\n",
    "            and t3.order_purchase_timestamp > first_order\n",
    "            and t3.order_purchase_timestamp < \n",
    "            date_add(first_order,interval 6 month)\n",
    "            group by a.customer_id)\n",
    "\n",
    "            select 100 * (count( distinct a.customer_id)/\n",
    "            count(distinct b.customer_id))\n",
    "            from a left join b \n",
    "            on a.customer_id = b.customer_id\"\"\"\n",
    "\n",
    "cur.execute(query)\n",
    "\n",
    "data = cur.fetchall()\n",
    "data\n"
   ]
  },
  {
   "cell_type": "markdown",
   "id": "ebafdf31-904a-4c09-ac56-2934cc74f775",
   "metadata": {},
   "source": [
    "# Identify the top 3 customers who spent the most money in each year."
   ]
  },
  {
   "cell_type": "code",
   "execution_count": 38,
   "id": "c849d068-314d-499f-8269-e179c93aeb08",
   "metadata": {},
   "outputs": [
    {
     "data": {
      "image/png": "[encoded data removed]",
      "text/plain": [
       "<Figure size 640x480 with 1 Axes>"
      ]
     },
     "metadata": {},
     "output_type": "display_data"
    }
   ],
   "source": [
    "query = \"\"\" select customer_id,years,payments,d_rank from\n",
    "            (select t1.customer_id,\n",
    "            year(t1.order_purchase_timestamp) as years,\n",
    "            sum(t2.payment_value) as payments,\n",
    "            dense_rank() \n",
    "            over(partition by year(t1.order_purchase_timestamp) \n",
    "            order by sum(t2.payment_value) desc) as d_rank\n",
    "            from orders t1\n",
    "            join payments t2\n",
    "            on t1.order_id = t2.order_id\n",
    "            group by years,customer_id) as t\n",
    "            where d_rank<4 \"\"\"\n",
    "\n",
    "cur.execute(query)\n",
    "data = cur.fetchall()\n",
    "df = pd.DataFrame(data,columns = [\"Customer_id\",\"Years\",\"Payments\",\"Rank\"])\n",
    "sns.barplot(data =df,x = \"Customer_id\",y= \"Payments\", hue = \"Years\")\n",
    "plt.xticks(rotation = 90)\n",
    "plt.show()\n",
    "\n"
   ]
  },
  {
   "cell_type": "code",
   "execution_count": null,
   "id": "53cf4eca-7817-4135-b78a-8cd25ec3c88d",
   "metadata": {},
   "outputs": [],
   "source": []
  }
 ],
 "metadata": {
  "kernelspec": {
   "display_name": "Python 3 (ipykernel)",
   "language": "python",
   "name": "python3"
  },
  "language_info": {
   "codemirror_mode": {
    "name": "ipython",
    "version": 3
   },
   "file_extension": ".py",
   "mimetype": "text/x-python",
   "name": "python",
   "nbconvert_exporter": "python",
   "pygments_lexer": "ipython3",
   "version": "3.13.2"
  }
 },
 "nbformat": 4,
 "nbformat_minor": 5
}
